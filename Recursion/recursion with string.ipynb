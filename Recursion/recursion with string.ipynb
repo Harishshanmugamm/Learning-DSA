{
 "cells": [
  {
   "cell_type": "code",
   "execution_count": null,
   "metadata": {},
   "outputs": [],
   "source": [
    "a=\"Jack saved seed from yew, flax, zucchini, bluebell, and quince to plant his garden.\"\n",
    "def replacea(a,b):\n",
    "    l=len(a)\n",
    "    if a=="
   ]
  }
 ],
 "metadata": {
  "language_info": {
   "name": "python"
  }
 },
 "nbformat": 4,
 "nbformat_minor": 2
}
