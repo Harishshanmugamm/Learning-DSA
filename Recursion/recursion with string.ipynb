{
 "cells": [
  {
   "cell_type": "code",
   "execution_count": 9,
   "metadata": {},
   "outputs": [
    {
     "name": "stdout",
     "output_type": "stream",
     "text": [
      "Jxck sxved seed from yew, flxx, zucchini, bluebell, xnd quince to plxnt his gxrden.\n"
     ]
    }
   ],
   "source": [
    "a=\"Jack saved seed from yew, flax, zucchini, bluebell, and quince to plant his garden.\"\n",
    "b='a'\n",
    "c='x'\n",
    "def replacea(a,b,x):\n",
    "    l=len(a)\n",
    "    if l==0:\n",
    "        return a\n",
    "    num=a[1:]\n",
    "    value = replacea(num,b,x)\n",
    "    if a[0]==b:\n",
    "        return x+value\n",
    "    else:\n",
    "        return a[0]+value\n",
    "print(replacea(a,b,c))"
   ]
  },
  {
   "cell_type": "code",
   "execution_count": 20,
   "metadata": {},
   "outputs": [
    {
     "name": "stdout",
     "output_type": "stream",
     "text": [
      "pxpxxxxxiiiioooxxxx\n",
      "ppiiiiooo\n"
     ]
    }
   ],
   "source": [
    "def removeX(string): \n",
    "    if len(string)==0:\n",
    "        return string\n",
    "    dup=string[1:]\n",
    "    result=removeX(dup)\n",
    "    if string[0]=='x' or string[0]=='X':\n",
    "        return ''+result\n",
    "    else:\n",
    "        return string[0]+result\n",
    "\n",
    "string = input()\n",
    "print(string)\n",
    "print(removeX(string))"
   ]
  },
  {
   "cell_type": "code",
   "execution_count": 13,
   "metadata": {},
   "outputs": [
    {
     "name": "stdout",
     "output_type": "stream",
     "text": [
      "3.14u3.14xpp3.14ii\n"
     ]
    }
   ],
   "source": [
    "def removepi(string):\n",
    "    l=len(string)\n",
    "    if l==0 or l==1:\n",
    "        return string\n",
    "    if string[0]=='p' and string[1]=='i':\n",
    "        piresult=removepi(string[2:])\n",
    "        return \"3.14\"+piresult\n",
    "    else:\n",
    "        result=removepi(string[1:])\n",
    "        return string[0]+result\n",
    "\n",
    "string=input()\n",
    "print(removepi(string))"
   ]
  },
  {
   "cell_type": "code",
   "execution_count": 18,
   "metadata": {},
   "outputs": [
    {
     "name": "stdout",
     "output_type": "stream",
     "text": [
      "[1, 2, 5, 6, 7, 8, 9, 22, 55, 66, 99, 100]\n",
      "10\n"
     ]
    }
   ],
   "source": [
    "def binary_search_index(arr,item,si,ei):\n",
    "    if si>ei:\n",
    "        return -1\n",
    "    middle=(si+ei)//2\n",
    "    if arr[middle]==item:\n",
    "        return middle\n",
    "    elif item<arr[middle]:\n",
    "        return binary_search_index(arr,item,si,middle-1)\n",
    "    else:\n",
    "        return binary_search_index(arr,item,middle+1,ei)\n",
    "\n",
    "a=list(map(int,input(\"Enter a List\").split()))\n",
    "b=int(input(\"Enter a item to search\"))\n",
    "si=0\n",
    "ei=len(a)-1\n",
    "print(a)\n",
    "print(binary_search_index(a,b,si,ei))"
   ]
  },
  {
   "cell_type": "code",
   "execution_count": null,
   "metadata": {},
   "outputs": [],
   "source": [
    "1"
   ]
  }
 ],
 "metadata": {
  "kernelspec": {
   "display_name": "Python 3",
   "language": "python",
   "name": "python3"
  },
  "language_info": {
   "codemirror_mode": {
    "name": "ipython",
    "version": 3
   },
   "file_extension": ".py",
   "mimetype": "text/x-python",
   "name": "python",
   "nbconvert_exporter": "python",
   "pygments_lexer": "ipython3",
   "version": "3.12.4"
  }
 },
 "nbformat": 4,
 "nbformat_minor": 2
}
