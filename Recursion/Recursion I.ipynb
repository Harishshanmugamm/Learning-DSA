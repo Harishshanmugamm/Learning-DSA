{
 "cells": [
  {
   "cell_type": "code",
   "execution_count": null,
   "id": "ab210b29",
   "metadata": {},
   "outputs": [],
   "source": [
    "def fact(n):\n",
    "    if(n==0):\n",
    "        return 1\n",
    "    return n*fact(n-1)\n",
    "\n",
    "x=fact(4)\n",
    "print(x)"
   ]
  },
  {
   "cell_type": "code",
   "execution_count": null,
   "id": "d12d47c7",
   "metadata": {},
   "outputs": [],
   "source": [
    "def sums(n):\n",
    "    if(n==0):\n",
    "        return 0\n",
    "    return n+sums(n-1)\n",
    "\n",
    "print(sums(10))"
   ]
  },
  {
   "cell_type": "code",
   "execution_count": null,
   "id": "a76df67a",
   "metadata": {},
   "outputs": [],
   "source": [
    "def print_1_to_n(n):\n",
    "    if n==0:\n",
    "        return\n",
    "    print_1_to_n(n-1)\n",
    "    print(n)\n",
    "\n",
    "print_1_to_n(5)"
   ]
  },
  {
   "cell_type": "code",
   "execution_count": null,
   "id": "e3df8452",
   "metadata": {},
   "outputs": [],
   "source": [
    "def print_n_to_1(n):\n",
    "    if n==0:\n",
    "        return\n",
    "    print(n)\n",
    "    print_n_to_1(n-1)\n",
    "\n",
    "print_n_to_1(5)"
   ]
  },
  {
   "cell_type": "code",
   "execution_count": null,
   "id": "3966fc4f",
   "metadata": {},
   "outputs": [],
   "source": [
    "##Fibonacci Number\n",
    "def fibno(n):\n",
    "    if n==1 or n==2:\n",
    "        return 1\n",
    "    fib_n_1=fibno(n-1)\n",
    "    fib_n_2=fibno(n-2)\n",
    "    return fib_n_1+fib_n_2\n",
    "\n",
    "def fibnocci(n):\n",
    "    a=0\n",
    "    b=1\n",
    "    for i in range(n):\n",
    "        temp=a+b\n",
    "        a=b\n",
    "        b=temp\n",
    "    return a\n",
    "\n",
    "print(fibno(5))\n",
    "print(fibnocci(5))"
   ]
  },
  {
   "cell_type": "code",
   "execution_count": null,
   "id": "66a68eb1",
   "metadata": {},
   "outputs": [],
   "source": [
    "import sys\n",
    "sys.setrecursionlimit(3000)"
   ]
  },
  {
   "cell_type": "code",
   "execution_count": null,
   "id": "d78dcdce",
   "metadata": {},
   "outputs": [],
   "source": [
    "def fun(n):\n",
    "    if(n == 4):\n",
    "        return n\n",
    "    else:\n",
    "        out=fun(n+1)\n",
    "        return 2*out\n",
    "\n",
    "print(fun(2))"
   ]
  },
  {
   "cell_type": "code",
   "execution_count": null,
   "id": "f2cbd136",
   "metadata": {},
   "outputs": [],
   "source": [
    "## Check if the list is Sorted\n",
    "def isSorted(a):\n",
    "    l=len(a)\n",
    "    if l==0 or l==1:\n",
    "        return True\n",
    "    if a[0]>a[1]:\n",
    "        return False\n",
    "    smallerlist=a[1:]\n",
    "    issmallerlist=isSorted(smallerlist)\n",
    "    if(issmallerlist):\n",
    "        return True\n",
    "    else:\n",
    "        return False\n",
    "    #return issmallerlist\n",
    "a=[1,2,3,5,6,7,8,9]\n",
    "isSorted(a)"
   ]
  },
  {
   "cell_type": "code",
   "execution_count": null,
   "id": "09945eb1",
   "metadata": {},
   "outputs": [],
   "source": [
    "### check if the list is Sorted in the better way\n",
    "def isSortedbetter(arr,sind):\n",
    "    length=len(arr)\n",
    "    if sind==length-1 or sind ==length:\n",
    "        return True\n",
    "    if arr[sind]>arr[sind+1]:\n",
    "        return False\n",
    "    smaller=isSortedbetter(arr,sind+1)\n",
    "    return smaller\n",
    "\n",
    "a=[1,2,3,9\n",
    ",6,7,8,9]\n",
    "print(isSortedbetter(a,0))\n",
    "b=[8,9,5,4,2,1]\n",
    "print(isSortedbetter(b,0))\n"
   ]
  },
  {
   "cell_type": "code",
   "execution_count": null,
   "id": "01996102",
   "metadata": {},
   "outputs": [],
   "source": [
    "def findx(n,val,count=0):\n",
    "    l=len(n)\n",
    "    if l==0:\n",
    "        return -1\n",
    "    if n[0]==val:\n",
    "        return count\n",
    "    x=n[1:]\n",
    "    return findx(x,val,count+1)\n",
    "\n",
    "a=[1,2,3,4,9,6,9,8,8]\n",
    "print(findx(a,5))\n"
   ]
  },
  {
   "cell_type": "code",
   "execution_count": 1,
   "id": "812656c6",
   "metadata": {},
   "outputs": [
    {
     "name": "stdout",
     "output_type": "stream",
     "text": [
      "4\n",
      "4\n"
     ]
    }
   ],
   "source": [
    "from multipledispatch import dispatch\n",
    "a=[10,20,3,5,9,8,70]\n",
    "b=9\n",
    "\n",
    "\n",
    "@dispatch(list,int,int)\n",
    "def firstindex(a,b,si):\n",
    "    l=len(a)\n",
    "    if l==si or  (si==l-1 and a[l-1]!=b):\n",
    "        return -1\n",
    "    if a[si]==b:\n",
    "        return si\n",
    "    return firstindex(a,b,si+1)\n",
    "\n",
    "@dispatch(list,int)\n",
    "def firstindex(a,b):\n",
    "    l=len(a)\n",
    "    if l==0 or (l==1 and a[l]!=b):\n",
    "        return -1\n",
    "    if a[0]==b:\n",
    "        return 0\n",
    "    arr=a[1:]\n",
    "    result=firstindex(arr,b)\n",
    "    if result==-1:\n",
    "        return -1\n",
    "    else:\n",
    "        return result+1\n",
    "\n",
    "\n",
    "print(firstindex(a,b,0))\n",
    "print(firstindex(a,b))\n",
    "    \n",
    "    \n",
    "\n"
   ]
  }
 ],
 "metadata": {
  "kernelspec": {
   "display_name": "Python 3 (ipykernel)",
   "language": "python",
   "name": "python3"
  },
  "language_info": {
   "codemirror_mode": {
    "name": "ipython",
    "version": 3
   },
   "file_extension": ".py",
   "mimetype": "text/x-python",
   "name": "python",
   "nbconvert_exporter": "python",
   "pygments_lexer": "ipython3",
   "version": "3.12.4"
  }
 },
 "nbformat": 4,
 "nbformat_minor": 5
}
